{
 "cells": [
  {
   "cell_type": "markdown",
   "metadata": {},
   "source": [
    "# 13. Uso de servicios web\n",
    "\n",
    "Alejandro E. Martínez Castro (amcastro@ugr.es)\n",
    "\n",
    "Tomado de C. Severance. \"Python for Informatics\""
   ]
  },
  {
   "cell_type": "markdown",
   "metadata": {},
   "source": [
    "## Formatos de ficheros para intercambio de datos en la web\n",
    "\n",
    "Existen dos formatos básicos que se emplean en el intercambio de datos en la web. Por un lado, el [XML](https://es.wikipedia.org/wiki/Extensible_Markup_Language) (eXtensive Markup Languaje) y el [JSON](https://es.wikipedia.org/wiki/JSON) (JavaScript Object Notation). \n",
    "\n",
    "El primero de ellos, XML, se emplea fundamentalmente para el intercambio de datos en formato documento. \n",
    "\n",
    "El segundo de ellos, JSON, se emplea para intercambiar diccionarios, listas, etc. \n",
    "\n",
    "En lo que sigue veremos cómo se estructuran ambos. "
   ]
  },
  {
   "cell_type": "markdown",
   "metadata": {},
   "source": [
    "## 1. eXtensive Markup Languaje - XML\n",
    "\n",
    "Un fichero XML tiene un aspecto muy parecido a uno en HTML, pero XML es más estructurado. Veamos un ejemplo de XML: \n",
    "\n",
    "    <persona>\n",
    "        <nombre>Alejandro</nombre>\n",
    "        <teléfono type=\"intl\">\n",
    "            +34 958 11 22 33\n",
    "        </teléfono>\n",
    "        <email oculto=\"yes\" />\n",
    "    </persona>\n",
    "\n",
    "Cada pareja de etiquetas de apertura (como `<persona>`) y cierre (como `<\\persona>`) representa un *elemento* o *nodo* con el mismo nombre que la etiqueta (como `persona`). Cada elemento puede tener texto, atributos (e.g. **oculto**), y otros elementos anidados. Si un elemento XML está vacío (es decir, no tiene contenido), debe ser delimitado por una etiqueta especial \"semi-cerrada\", como `<email \\>`.\n",
    "\n",
    "Es útil pensar en un documento XML como una estructura arborescente, en la cual existe un elemento en el nivel superior (en este caso `persona`) y otras etiquetas aparecen como hijos (como `phone`)"
   ]
  },
  {
   "cell_type": "markdown",
   "metadata": {},
   "source": [
    "### 1.1 Análisis del código XML\n",
    "\n",
    "En el siguiente bloque se muestra un ejemplo de extracción de datos a partir de un fichero XML, de forma simple. "
   ]
  },
  {
   "cell_type": "code",
   "execution_count": 1,
   "metadata": {},
   "outputs": [
    {
     "name": "stdout",
     "output_type": "stream",
     "text": [
      "Nombre: Alejandro\n",
      "Atributo de email: ¿Es oculto?: sí\n",
      "Teléfono: \n",
      "    +34 958 11 22 33\n",
      "  \n"
     ]
    }
   ],
   "source": [
    "import xml.etree.ElementTree as ET\n",
    "\n",
    "data = '''\n",
    "<persona>\n",
    "  <nombre>Alejandro</nombre>\n",
    "  <teléfono type=\"intl\">\n",
    "    +34 958 11 22 33\n",
    "  </teléfono>\n",
    "  <email oculto=\"sí\" />\n",
    "</persona>'''\n",
    "\n",
    "arbol = ET.fromstring(data)\n",
    "print('Nombre:', arbol.find('nombre').text)\n",
    "print('Atributo de email: ¿Es oculto?:', arbol.find('email').get('oculto'))\n",
    "print('Teléfono:', arbol.find('teléfono').text)"
   ]
  },
  {
   "cell_type": "markdown",
   "metadata": {},
   "source": [
    "En el bloque anterior, obsérvese que la triple comilla ('''), que también puede ponerse como (\"\"\"), permite generar cadenas de texto de multiples líneas. \n",
    "\n",
    "La llamada a `fromstrings` convierte la cadena de texto XML en un \"árbol\" de elementos XML. Cuando el XML está en un árbol, es posible, mediante ciertos métodos, acceder a la información de forma ordenada. La función `find` busca en el fichero XML y devuelve el elemento que coincide con el criterio. Observando este ejemplo, `tree.find` obtiene el contenido de la etiqueta `<nombre>`, o el atributo de `<email>`.\n",
    "\n",
    "El uso de un analizador como `ElementTree` permite extraer datos de un XML sin procuparnos de las reglas de la sintaxis XML. "
   ]
  },
  {
   "cell_type": "markdown",
   "metadata": {},
   "source": [
    "### 1.2. Bucle entre nodos\n",
    "\n",
    "Normalmente un XML tiene muchos nodos, y es necesario escribir un bucle para procesar todos los nodos. En el siguiente ejemplo, iteramos entre todos los nodos de `<usuario>`."
   ]
  },
  {
   "cell_type": "code",
   "execution_count": 2,
   "metadata": {},
   "outputs": [
    {
     "name": "stdout",
     "output_type": "stream",
     "text": [
      "Contador de usuarios: 2\n",
      "Nombre Alejandro\n",
      "Identificador 001\n",
      "Atributo 2\n",
      "Nombre Pedro\n",
      "Identificador 009\n",
      "Atributo 7\n"
     ]
    }
   ],
   "source": [
    "import xml.etree.ElementTree as ET\n",
    "\n",
    "entrada = '''\n",
    "<plantilla>\n",
    "  <usuarios>\n",
    "    <usuario x=\"2\">\n",
    "      <id>001</id>\n",
    "      <nombre>Alejandro</nombre>\n",
    "    </usuario>\n",
    "    <usuario x=\"7\">\n",
    "      <id>009</id>\n",
    "      <nombre>Pedro</nombre>\n",
    "    </usuario>\n",
    "  </usuarios>\n",
    "</plantilla>'''\n",
    "\n",
    "trabajadores = ET.fromstring(entrada)\n",
    "lista = trabajadores.findall('usuarios/usuario') # Observe cómo selecciona \"usuario\" dentro de \"usuarios\"\n",
    "print('Contador de usuarios:', len(lista))\n",
    "\n",
    "for item in lista:\n",
    "    print('Nombre', item.find('nombre').text)\n",
    "    print('Identificador', item.find('id').text)\n",
    "    print('Atributo', item.get('x'))"
   ]
  },
  {
   "cell_type": "markdown",
   "metadata": {},
   "source": [
    "Es importante incluir todos los elementos \"padre\" en la búsqueda con `findall`. De lo contrario, Python no encontrará la información deseada. Observe el siguiente ejemplo: "
   ]
  },
  {
   "cell_type": "code",
   "execution_count": 3,
   "metadata": {},
   "outputs": [
    {
     "name": "stdout",
     "output_type": "stream",
     "text": [
      "Contador de usuarios: 2\n",
      "Contador de usuarios: 0\n"
     ]
    }
   ],
   "source": [
    "import xml.etree.ElementTree as ET\n",
    "\n",
    "entrada = '''\n",
    "<plantilla>\n",
    "  <usuarios>\n",
    "    <usuario x=\"2\">\n",
    "      <id>001</id>\n",
    "      <nombre>Alejandro</nombre>\n",
    "    </usuario>\n",
    "    <usuario x=\"7\">\n",
    "      <id>009</id>\n",
    "      <nombre>Pedro</nombre>\n",
    "    </usuario>\n",
    "  </usuarios>\n",
    "</plantilla>'''\n",
    "\n",
    "trabajadores = ET.fromstring(entrada)\n",
    "\n",
    "# Primer caso: búsqueda de usuario dentro de usuarios\n",
    "lista = trabajadores.findall('usuarios/usuario') \n",
    "print('Contador de usuarios:', len(lista))\n",
    "\n",
    "# Segundo caso: búsqueda de usuario dentro de plantilla. No hay nivel inmediat inferior denominado \"usuario\"\n",
    "lista2 = trabajadores.findall('usuario')\n",
    "print('Contador de usuarios:', len(lista2))"
   ]
  },
  {
   "cell_type": "markdown",
   "metadata": {},
   "source": [
    "## 2. JavaScript Object Notation - JSON\n",
    "\n",
    "El formato JSON fue inspirado en los formatos de array y objeto del lenguaje JavaScript. Pero Python fue inventado antes que JavaScript, y es claro que el formato de diccionarios y listas de Python influyó en la sintaxis de JSON. El formato JSON es una combinación de diccionarios y listas de Python. Observe el siguiente bloque JSON. \n",
    "\n",
    "    {\n",
    "      \"nombre\" : \"Alejandro\",\n",
    "      \"teléfono\" : {\n",
    "        \"type\" : \"intl\",\n",
    "        \"número\" : \"+34 958 11 22 33\"\n",
    "        },\n",
    "      \"email\" : {\n",
    "        \"oculto\" : \"sí\"\n",
    "       }\n",
    "    }\n",
    "    \n",
    "En comparación con el XML anterior, se observan diferencias. En un XML, el atributo \"intl\" se puede añadir a la etiqueta \"teléfono\". En un JSON la información se estructura en parejas de \"palabra-clave: contenido\", como en un diccionario de Python. \n",
    "\n",
    "En general, la estructura JSON es más simple que la XML, pues JSON tiene menos capacidades que XML. La principal ventaja de JSON es que emplea directamente diccionarios y listas (una combinación de ambos). Y puesto que los lenguajes suelen tener de alguna forma el equivalente a diccionarios y listas de Python, JSON es un formato muy natural para intercambio de datos. "
   ]
  },
  {
   "cell_type": "markdown",
   "metadata": {},
   "source": [
    "### 2.1. Análisis de código JSON\n",
    "\n",
    "El fichero JSON contiene diccionarios y listas. En este ejemplo representamos una lista de usuarios, donde cada usuario incluye una pareja de etiquetas-valores. \n",
    "\n",
    "En este ejemplo emplearemos la librería `json` para analizar ficheros JSON y extraer la información que se desee. Es interesante comparar con la representación XML. El JSON tiene menos detalles. Debemos saber de antemano que tendremos una lista, y que esta lista es de usuarios, y además, que cada usuario es una pareja de etiquetas-valores. El JSON es más directo, y menos descriptivo que el XML. "
   ]
  },
  {
   "cell_type": "code",
   "execution_count": 4,
   "metadata": {},
   "outputs": [
    {
     "name": "stdout",
     "output_type": "stream",
     "text": [
      "User count: 2\n",
      "Nombre Alejandro\n",
      "Id 001\n",
      "Atributo 2\n",
      "Nombre Pedro\n",
      "Id 009\n",
      "Atributo 7\n"
     ]
    }
   ],
   "source": [
    "import json\n",
    "\n",
    "data = '''\n",
    "[\n",
    "  { \"id\" : \"001\",\n",
    "    \"x\" : \"2\",\n",
    "    \"nombre\" : \"Alejandro\"\n",
    "  } ,\n",
    "  { \"id\" : \"009\",\n",
    "    \"x\" : \"7\",\n",
    "    \"nombre\" : \"Pedro\"\n",
    "  }\n",
    "]'''\n",
    "\n",
    "info = json.loads(data)\n",
    "print('User count:', len(info))\n",
    "\n",
    "for item in info:\n",
    "    print('Nombre', item['nombre'])\n",
    "    print('Id', item['id'])\n",
    "    print('Atributo', item['x'])"
   ]
  },
  {
   "cell_type": "markdown",
   "metadata": {},
   "source": [
    "Si compara con el fichero XML, lo que se obtiene de `json.loads()` es una lista que se recorre con un bucle `for`.\n",
    "\n",
    "No es necesario \"traducir\" lo que se obtiene del fichero JSON, pues son listas nativas en código Python. \n",
    "\n",
    "En general, existe una tendencia en diseño Web a utilizar ficheros JSON, en lugar de XML. "
   ]
  },
  {
   "cell_type": "markdown",
   "metadata": {},
   "source": [
    "## 3. APIs (Application Programming Interfaces)\n",
    "\n",
    "Las APIs son una forma de utilizar servicios web de determinados programas. Estas APIs las podemos incorporar en nuestros programas. \n",
    "\n",
    "Esto es algo que observamos de manera habitual cuando navegamos por la web. Vemos páginas de aerolíneas que ofrecen servicios de hotel. La página conecta con una API del hotel que devuelve datos para poder ser insertados en la web de la aerolínea. \n",
    "\n",
    "Es habitual, para usar la API de un distribuidor de servicios web, tener que darse de alta, y tener una contraseña. Estas APIs tienen un uso limitado. Para poder ampliar las herramientas APIs se utiliza el `web scraping`.\n",
    "\n",
    "### Ejemplo: Servicio de geolocalización de Google: Google Places\n",
    "\n",
    "En este ejemplo se empleará la API de Google Places. Se pedirán datos de la localización de un emplazamiento, en el servicio de Google. Se obtendrán los datos en un JSON. "
   ]
  },
  {
   "cell_type": "code",
   "execution_count": null,
   "metadata": {},
   "outputs": [
    {
     "name": "stdout",
     "output_type": "stream",
     "text": [
      "Introduzca localización: Granada\n",
      "Accediendo a  http://py4e-data.dr-chuck.net/json?address=Granada&key=42\n",
      "Recuperados  1702 caracteres\n",
      "{\n",
      "    \"results\": [\n",
      "        {\n",
      "            \"address_components\": [\n",
      "                {\n",
      "                    \"long_name\": \"Granada\",\n",
      "                    \"short_name\": \"Granada\",\n",
      "                    \"types\": [\n",
      "                        \"locality\",\n",
      "                        \"political\"\n",
      "                    ]\n",
      "                },\n",
      "                {\n",
      "                    \"long_name\": \"Granada\",\n",
      "                    \"short_name\": \"Granada\",\n",
      "                    \"types\": [\n",
      "                        \"administrative_area_level_2\",\n",
      "                        \"political\"\n",
      "                    ]\n",
      "                },\n",
      "                {\n",
      "                    \"long_name\": \"Andalusia\",\n",
      "                    \"short_name\": \"AL\",\n",
      "                    \"types\": [\n",
      "                        \"administrative_area_level_1\",\n",
      "                        \"political\"\n",
      "                    ]\n",
      "                },\n",
      "                {\n",
      "                    \"long_name\": \"Spain\",\n",
      "                    \"short_name\": \"ES\",\n",
      "                    \"types\": [\n",
      "                        \"country\",\n",
      "                        \"political\"\n",
      "                    ]\n",
      "                }\n",
      "            ],\n",
      "            \"formatted_address\": \"Granada, Spain\",\n",
      "            \"geometry\": {\n",
      "                \"bounds\": {\n",
      "                    \"northeast\": {\n",
      "                        \"lat\": 37.2124648,\n",
      "                        \"lng\": -3.5487084\n",
      "                    },\n",
      "                    \"southwest\": {\n",
      "                        \"lat\": 37.1494277,\n",
      "                        \"lng\": -3.6338351\n",
      "                    }\n",
      "                },\n",
      "                \"location\": {\n",
      "                    \"lat\": 37.1773363,\n",
      "                    \"lng\": -3.5985571\n",
      "                },\n",
      "                \"location_type\": \"APPROXIMATE\",\n",
      "                \"viewport\": {\n",
      "                    \"northeast\": {\n",
      "                        \"lat\": 37.2124648,\n",
      "                        \"lng\": -3.5487084\n",
      "                    },\n",
      "                    \"southwest\": {\n",
      "                        \"lat\": 37.1494277,\n",
      "                        \"lng\": -3.6338351\n",
      "                    }\n",
      "                }\n",
      "            },\n",
      "            \"place_id\": \"ChIJfcIyLeb8cQ0Rcg1g0533WJI\",\n",
      "            \"types\": [\n",
      "                \"locality\",\n",
      "                \"political\"\n",
      "            ]\n",
      "        }\n",
      "    ],\n",
      "    \"status\": \"OK\"\n",
      "}\n",
      "lat 37.1773363 lng -3.5985571\n",
      "Granada, Spain\n"
     ]
    }
   ],
   "source": [
    "import urllib.request, urllib.parse, urllib.error\n",
    "import json\n",
    "import ssl\n",
    "\n",
    "api_key = False\n",
    "# Si dispone de una clave para API de Google Places, introducir aquí\n",
    "# api_key = 'AIzaSy___IDByT70'\n",
    "# https://developers.google.com/maps/documentation/geocoding/intro\n",
    "\n",
    "if api_key is False:\n",
    "    api_key = 42\n",
    "    serviceurl = 'http://py4e-data.dr-chuck.net/json?'\n",
    "else :\n",
    "    serviceurl = 'https://maps.googleapis.com/maps/api/geocode/json?'\n",
    "\n",
    "# Ignorar los errores de certificado SSL\n",
    "ctx = ssl.create_default_context()\n",
    "ctx.check_hostname = False\n",
    "ctx.verify_mode = ssl.CERT_NONE\n",
    "\n",
    "while True:\n",
    "    address = input('Introduzca localización: ')\n",
    "    if len(address) < 1: break\n",
    "\n",
    "    parms = dict()\n",
    "    parms['address'] = address\n",
    "    if api_key is not False: parms['key'] = api_key\n",
    "    url = serviceurl + urllib.parse.urlencode(parms)\n",
    "\n",
    "    print('Accediendo a ', url)\n",
    "    uh = urllib.request.urlopen(url, context=ctx)\n",
    "    data = uh.read().decode()\n",
    "    print('Recuperados ', len(data), 'caracteres')\n",
    "\n",
    "    try:\n",
    "        js = json.loads(data)\n",
    "    except:\n",
    "        js = None\n",
    "\n",
    "    if not js or 'status' not in js or js['status'] != 'OK':\n",
    "        print('==== Fallo al acceder y recuperar ====')\n",
    "        print(data)\n",
    "        continue\n",
    "\n",
    "    print(json.dumps(js, indent=4))\n",
    "\n",
    "    lat = js['results'][0]['geometry']['location']['lat']\n",
    "    lng = js['results'][0]['geometry']['location']['lng']\n",
    "    print('lat', lat, 'lng', lng)\n",
    "    location = js['results'][0]['formatted_address']\n",
    "    print(location)"
   ]
  },
  {
   "cell_type": "code",
   "execution_count": null,
   "metadata": {},
   "outputs": [],
   "source": []
  }
 ],
 "metadata": {
  "kernelspec": {
   "display_name": "Python 3",
   "language": "python",
   "name": "python3"
  },
  "language_info": {
   "codemirror_mode": {
    "name": "ipython",
    "version": 3
   },
   "file_extension": ".py",
   "mimetype": "text/x-python",
   "name": "python",
   "nbconvert_exporter": "python",
   "pygments_lexer": "ipython3",
   "version": "3.7.3"
  }
 },
 "nbformat": 4,
 "nbformat_minor": 2
}
